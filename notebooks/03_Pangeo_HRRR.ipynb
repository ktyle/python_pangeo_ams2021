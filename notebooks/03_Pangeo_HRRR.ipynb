{
 "cells": [
  {
   "cell_type": "markdown",
   "id": "controlled-ultimate",
   "metadata": {},
   "source": [
    "# Python for Climate and Meteorology AMS Online Short Course 2021\n",
    "## Pangeo Notebook 03: Working with HRRR Data"
   ]
  },
  {
   "cell_type": "markdown",
   "id": "aerial-state",
   "metadata": {},
   "source": [
    "## In this notebook, we'll cover the following:\n",
    "1. Access archived HRRR data hosted on AWS in Zarr format\n",
    "2. Visualize one of the variables (2m temperature) at an analysis time"
   ]
  },
  {
   "cell_type": "markdown",
   "id": "animal-conflict",
   "metadata": {},
   "source": [
    "# <span style=\"color:purple\">0) Preliminaries</span>"
   ]
  },
  {
   "cell_type": "code",
   "execution_count": 1,
   "id": "rolled-fighter",
   "metadata": {},
   "outputs": [],
   "source": [
    "import xarray as xr\n",
    "import s3fs\n",
    "import metpy\n",
    "import numpy as np\n",
    "import matplotlib.pyplot as plt\n",
    "import cartopy.crs as ccrs\n",
    "import cartopy.feature as cfeature"
   ]
  },
  {
   "cell_type": "markdown",
   "id": "banned-delight",
   "metadata": {},
   "source": [
    "# <span style=\"color:purple\">1) Access archived HRRR data hosted on AWS in Zarr format</span>"
   ]
  },
  {
   "cell_type": "markdown",
   "id": "iraqi-catalyst",
   "metadata": {},
   "source": [
    "#### A limited set of HRRR grids are stored in Zarr format. A quirk in how these grids were converted from GRIB2 to Zarr means that the dimension variables are defined one directory up from where the data variables are. Thus, our strategy is to use Xarray's `open_mfdataset` method and pass in two AWS S3 file references to these two corresponding directories. "
   ]
  },
  {
   "cell_type": "markdown",
   "id": "stainless-interpretation",
   "metadata": {},
   "source": [
    "To interactively browse the contents of this archive, check out this link: [HRRRZarr File Browser on AWS](https://hrrrzarr.s3.amazonaws.com/index.html)"
   ]
  },
  {
   "cell_type": "code",
   "execution_count": 2,
   "id": "animal-metabolism",
   "metadata": {},
   "outputs": [
    {
     "name": "stdout",
     "output_type": "stream",
     "text": [
      "s3://hrrrzarr/sfc/20210216/20210216_12z_anl.zarr/2m_above_ground/TMP/2m_above_ground\n"
     ]
    }
   ],
   "source": [
    "# Access HRRR from AWS ... projection dimensions are in url2\n",
    "date = '20210216'\n",
    "hour = '12'\n",
    "var = 'TMP'\n",
    "level = '2m_above_ground'\n",
    "fs = s3fs.S3FileSystem(anon=True)\n",
    "\n",
    "url1 = 's3://hrrrzarr/sfc/' + date + '/' + date + '_' + hour + 'z_anl.zarr/' + level + '/' + var + '/' + level\n",
    "url2 = 's3://hrrrzarr/sfc/' + date + '/' + date + '_' + hour + 'z_anl.zarr/' + level + '/' + var\n",
    "\n",
    "print (url1)"
   ]
  },
  {
   "cell_type": "code",
   "execution_count": null,
   "id": "small-communication",
   "metadata": {},
   "outputs": [],
   "source": [
    "file1 = s3fs.S3Map(url1, s3=fs)\n",
    "file2 = s3fs.S3Map(url2, s3=fs)\n",
    "\n",
    "ds = xr.open_mfdataset([file1,file2], engine='zarr')"
   ]
  },
  {
   "cell_type": "markdown",
   "id": "adult-listening",
   "metadata": {},
   "source": [
    "#### Examine the dataset."
   ]
  },
  {
   "cell_type": "code",
   "execution_count": null,
   "id": "induced-revolution",
   "metadata": {},
   "outputs": [],
   "source": [
    "ds"
   ]
  },
  {
   "cell_type": "markdown",
   "id": "mobile-visiting",
   "metadata": {},
   "source": [
    "#### The projection information for the HRRR was not readily found in the Zarr representation, so we will define it explicitly here."
   ]
  },
  {
   "cell_type": "markdown",
   "id": "recorded-official",
   "metadata": {},
   "source": [
    "#### HRRR Grid Navigation: \n",
    "     PROJECTION:          LCC                 \n",
    "     ANGLES:                38.5   -97.5    38.5\n",
    "     GRID SIZE:             1799    1059\n",
    "     LL CORNER:            21.1381 -122.7195\n",
    "     UR CORNER:            47.8422  -60.9168"
   ]
  },
  {
   "cell_type": "code",
   "execution_count": null,
   "id": "chemical-assist",
   "metadata": {},
   "outputs": [],
   "source": [
    "lon1 = -97.5\n",
    "lat1 = 38.5\n",
    "slat = 38.5\n",
    "\n",
    "projData= ccrs.LambertConformal(central_longitude=lon1,\n",
    "                             central_latitude=lat1,\n",
    "                             standard_parallels=[slat])"
   ]
  },
  {
   "cell_type": "markdown",
   "id": "utility-solution",
   "metadata": {},
   "source": [
    "#### Examine the dataset's coordinate variables"
   ]
  },
  {
   "cell_type": "code",
   "execution_count": null,
   "id": "moved-feeling",
   "metadata": {},
   "outputs": [],
   "source": [
    "ds.coords"
   ]
  },
  {
   "cell_type": "markdown",
   "id": "taken-hepatitis",
   "metadata": {},
   "source": [
    "#### Create an object pointing to the dataset's data variable."
   ]
  },
  {
   "cell_type": "code",
   "execution_count": null,
   "id": "suspected-marriage",
   "metadata": {},
   "outputs": [],
   "source": [
    "airTemp = ds.TMP"
   ]
  },
  {
   "cell_type": "markdown",
   "id": "mechanical-times",
   "metadata": {},
   "source": [
    "#### Examine the data variable. It is a Dask array."
   ]
  },
  {
   "cell_type": "code",
   "execution_count": null,
   "id": "romance-status",
   "metadata": {},
   "outputs": [],
   "source": [
    "airTemp"
   ]
  },
  {
   "cell_type": "markdown",
   "id": "outer-preview",
   "metadata": {},
   "source": [
    "#### Let's use MetPy to convert the units to Celsius."
   ]
  },
  {
   "cell_type": "code",
   "execution_count": null,
   "id": "accomplished-arizona",
   "metadata": {},
   "outputs": [],
   "source": [
    "airTemp = airTemp.metpy.convert_units('degC')"
   ]
  },
  {
   "cell_type": "markdown",
   "id": "mature-advantage",
   "metadata": {},
   "source": [
    "#### Verify that the object has the unit change"
   ]
  },
  {
   "cell_type": "code",
   "execution_count": null,
   "id": "given-agenda",
   "metadata": {},
   "outputs": [],
   "source": [
    "airTemp"
   ]
  },
  {
   "cell_type": "markdown",
   "id": "another-problem",
   "metadata": {},
   "source": [
    "#### As a result of how we created the dataset, the x- and y- dimensions are attached to the variable. We define objects pointing to them now, so we can pass them to the plotting functions."
   ]
  },
  {
   "cell_type": "code",
   "execution_count": null,
   "id": "terminal-musical",
   "metadata": {},
   "outputs": [],
   "source": [
    "x = airTemp.projection_x_coordinate\n",
    "y = airTemp.projection_y_coordinate"
   ]
  },
  {
   "cell_type": "markdown",
   "id": "planned-reach",
   "metadata": {},
   "source": [
    "# <span style=\"color:purple\">2) Visualize one of the variables (2m temperature) at an analysis time </span>"
   ]
  },
  {
   "cell_type": "markdown",
   "id": "divine-hardwood",
   "metadata": {},
   "source": [
    "#### First, just use Xarray's `plot` function to get a quick look to verify that things look right."
   ]
  },
  {
   "cell_type": "code",
   "execution_count": null,
   "id": "advanced-employer",
   "metadata": {},
   "outputs": [],
   "source": [
    "airTemp.plot(figsize=(11,8.5))"
   ]
  },
  {
   "cell_type": "markdown",
   "id": "brown-composer",
   "metadata": {},
   "source": [
    "### Exercise: Before we plot the map, obtain the min and max values from this `DataArray`.\n",
    "#### Hint: Since the DataArray is actually a Dask array, applying the min and max functions won't actually do the computation. You will need to call Dask's `compute` function to actually trigger the computation."
   ]
  },
  {
   "cell_type": "code",
   "execution_count": null,
   "id": "extensive-birmingham",
   "metadata": {},
   "outputs": [],
   "source": [
    "# Write your code here"
   ]
  },
  {
   "cell_type": "markdown",
   "id": "integral-surveillance",
   "metadata": {},
   "source": [
    "#### Based on the min and max that you obtained, define a range of values used for contouring."
   ]
  },
  {
   "cell_type": "code",
   "execution_count": null,
   "id": "promising-apartment",
   "metadata": {},
   "outputs": [],
   "source": [
    "fint = np.arange(-40,32,2)"
   ]
  },
  {
   "cell_type": "markdown",
   "id": "piano-cookbook",
   "metadata": {},
   "source": [
    "#### Now proceed with creating the final graphic. We'll define the plot extent to nicely encompass the HRRR's spatial domain."
   ]
  },
  {
   "cell_type": "code",
   "execution_count": null,
   "id": "intense-roberts",
   "metadata": {},
   "outputs": [],
   "source": [
    "latN = 50.4\n",
    "latS = 24\n",
    "lonW = -124\n",
    "lonE = -71\n",
    "\n",
    "res = '50m'\n",
    "\n",
    "fig = plt.figure(figsize=(18,12))\n",
    "ax = plt.subplot(1,1,1,projection=projData)\n",
    "ax.set_extent ([lonW,lonE,latS,latN],crs=ccrs.PlateCarree())\n",
    "ax.add_feature(cfeature.COASTLINE.with_scale(res))\n",
    "ax.add_feature(cfeature.STATES.with_scale(res))\n",
    "\n",
    "# Add the title\n",
    "tl1 = str('HRRR 2m temperature ($^\\circ$C)')\n",
    "tl2 = str('Analysis valid at: '+ date + hour + ' UTC')\n",
    "plt.title(tl1+'\\n'+tl2,fontsize=16)\n",
    "\n",
    "# Contour fill\n",
    "CF = ax.contourf(x,y,airTemp,levels=fint,cmap=plt.get_cmap('coolwarm'))\n",
    "# Make a colorbar for the ContourSet returned by the contourf call.\n",
    "cbar = fig.colorbar(CF,shrink=0.5)\n",
    "cbar.set_label(r'2m Temperature ($^\\circ$C)', size='large')"
   ]
  },
  {
   "cell_type": "markdown",
   "id": "lightweight-michael",
   "metadata": {},
   "source": [
    "## Exercise: try different times and variables."
   ]
  }
 ],
 "metadata": {
  "kernelspec": {
   "display_name": "Python 3",
   "language": "python",
   "name": "python3"
  },
  "language_info": {
   "codemirror_mode": {
    "name": "ipython",
    "version": 3
   },
   "file_extension": ".py",
   "mimetype": "text/x-python",
   "name": "python",
   "nbconvert_exporter": "python",
   "pygments_lexer": "ipython3",
   "version": "3.8.6"
  }
 },
 "nbformat": 4,
 "nbformat_minor": 5
}
