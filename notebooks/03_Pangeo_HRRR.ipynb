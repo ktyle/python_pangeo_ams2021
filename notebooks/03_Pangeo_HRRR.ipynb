{
 "cells": [
  {
   "cell_type": "markdown",
   "id": "clinical-console",
   "metadata": {},
   "source": [
    "# Python for Climate and Meteorology AMS Online Short Course 2021\n",
    "## Pangeo Notebook 03: Working with HRRR Data"
   ]
  },
  {
   "cell_type": "markdown",
   "id": "driving-cleveland",
   "metadata": {},
   "source": [
    "## In this notebook, we'll cover the following:\n",
    "1. Access archived HRRR data hosted on AWS in Zarr format\n",
    "2. Visualize one of the variables (2m temperature) at an analysis time"
   ]
  },
  {
   "cell_type": "markdown",
   "id": "inside-mixture",
   "metadata": {},
   "source": [
    "# <span style=\"color:purple\">0) Preliminaries</span>"
   ]
  },
  {
   "cell_type": "code",
   "execution_count": null,
   "id": "fluid-transfer",
   "metadata": {},
   "outputs": [],
   "source": [
    "import xarray as xr\n",
    "import s3fs\n",
    "import metpy\n",
    "import numpy as np\n",
    "import matplotlib.pyplot as plt\n",
    "import cartopy.crs as ccrs\n",
    "import cartopy.feature as cfeature"
   ]
  },
  {
   "cell_type": "markdown",
   "id": "parallel-strike",
   "metadata": {},
   "source": [
    "# <span style=\"color:purple\">1) Access archived HRRR data hosted on AWS in Zarr format</span>"
   ]
  },
  {
   "cell_type": "markdown",
   "id": "concerned-heating",
   "metadata": {},
   "source": [
    "#### A limited set of HRRR grids are stored in Zarr format. A quirk in how these grids were converted from GRIB2 to Zarr means that the dimension variables are defined one directory up from where the data variables are. Thus, our strategy is to use Xarray's `open_mfdataset` method and pass in two AWS S3 file references to these two corresponding directories. "
   ]
  },
  {
   "cell_type": "markdown",
   "id": "behavioral-apparatus",
   "metadata": {},
   "source": [
    "To interactively browse the contents of this archive, check out this link: [HRRRZarr File Browser on AWS](https://hrrrzarr.s3.amazonaws.com/index.html)"
   ]
  },
  {
   "cell_type": "code",
   "execution_count": null,
   "id": "southwest-alliance",
   "metadata": {},
   "outputs": [],
   "source": [
    "# Access HRRR from AWS ... projection dimensions are in url2\n",
    "date = '20210629'\n",
    "hour = '23'\n",
    "var = 'TMP'\n",
    "level = '2m_above_ground'\n",
    "fs = s3fs.S3FileSystem(anon=True)\n",
    "\n",
    "url1 = 's3://hrrrzarr/sfc/' + date + '/' + date + '_' + hour + 'z_anl.zarr/' + level + '/' + var + '/' + level\n",
    "url2 = 's3://hrrrzarr/sfc/' + date + '/' + date + '_' + hour + 'z_anl.zarr/' + level + '/' + var\n",
    "\n",
    "print (url1)"
   ]
  },
  {
   "cell_type": "code",
   "execution_count": null,
   "id": "hindu-catalog",
   "metadata": {},
   "outputs": [],
   "source": [
    "file1 = s3fs.S3Map(url1, s3=fs)\n",
    "file2 = s3fs.S3Map(url2, s3=fs)\n",
    "\n",
    "ds = xr.open_mfdataset([file1,file2], engine='zarr')"
   ]
  },
  {
   "cell_type": "markdown",
   "id": "processed-importance",
   "metadata": {},
   "source": [
    "#### Examine the dataset."
   ]
  },
  {
   "cell_type": "code",
   "execution_count": null,
   "id": "ceramic-letter",
   "metadata": {},
   "outputs": [],
   "source": [
    "ds"
   ]
  },
  {
   "cell_type": "markdown",
   "id": "potential-duration",
   "metadata": {},
   "source": [
    "#### The projection information for the HRRR was not readily found in the Zarr representation, so we will define it explicitly here."
   ]
  },
  {
   "cell_type": "markdown",
   "id": "worldwide-thumbnail",
   "metadata": {},
   "source": [
    "#### HRRR Grid Navigation: \n",
    "     PROJECTION:          LCC                 \n",
    "     ANGLES:                38.5   -97.5    38.5\n",
    "     GRID SIZE:             1799    1059\n",
    "     LL CORNER:            21.1381 -122.7195\n",
    "     UR CORNER:            47.8422  -60.9168"
   ]
  },
  {
   "cell_type": "code",
   "execution_count": null,
   "id": "embedded-lafayette",
   "metadata": {},
   "outputs": [],
   "source": [
    "lon1 = -97.5\n",
    "lat1 = 38.5\n",
    "slat = 38.5\n",
    "\n",
    "projData= ccrs.LambertConformal(central_longitude=lon1,\n",
    "                             central_latitude=lat1,\n",
    "                             standard_parallels=[slat,slat], globe=ccrs.Globe(semimajor_axis=6371229,\n",
    "                                        semiminor_axis=6371229))"
   ]
  },
  {
   "cell_type": "markdown",
   "id": "b5ec77e2-8a29-4124-ae9d-c0379e23dde0",
   "metadata": {},
   "source": [
    "<div class=\"alert alert-warning\"><b>Note: </b>\n",
    "    The HRRR's projection assumes a <i>spherical earth</i>, whose semi-major/minor axes are both equal to 637.1229 km. We therefore need to explicitly define a <code>Globe</code> in Cartopy with these values.\n",
    "</div>"
   ]
  },
  {
   "cell_type": "markdown",
   "id": "typical-canvas",
   "metadata": {},
   "source": [
    "#### Examine the dataset's coordinate variables"
   ]
  },
  {
   "cell_type": "code",
   "execution_count": null,
   "id": "rotary-logic",
   "metadata": {},
   "outputs": [],
   "source": [
    "ds.coords"
   ]
  },
  {
   "cell_type": "markdown",
   "id": "entertaining-telescope",
   "metadata": {},
   "source": [
    "#### Create an object pointing to the dataset's data variable."
   ]
  },
  {
   "cell_type": "code",
   "execution_count": null,
   "id": "interior-springer",
   "metadata": {},
   "outputs": [],
   "source": [
    "airTemp = ds.TMP"
   ]
  },
  {
   "cell_type": "markdown",
   "id": "sustainable-divorce",
   "metadata": {},
   "source": [
    "#### Examine the data variable. It is a Dask array."
   ]
  },
  {
   "cell_type": "code",
   "execution_count": null,
   "id": "aerial-weekly",
   "metadata": {},
   "outputs": [],
   "source": [
    "airTemp"
   ]
  },
  {
   "cell_type": "markdown",
   "id": "ideal-component",
   "metadata": {},
   "source": [
    "#### Let's use MetPy to convert the units to Celsius."
   ]
  },
  {
   "cell_type": "code",
   "execution_count": null,
   "id": "distinct-fraction",
   "metadata": {},
   "outputs": [],
   "source": [
    "airTemp = airTemp.metpy.convert_units('degC')"
   ]
  },
  {
   "cell_type": "markdown",
   "id": "social-pension",
   "metadata": {},
   "source": [
    "#### Verify that the object has the unit change"
   ]
  },
  {
   "cell_type": "code",
   "execution_count": null,
   "id": "modular-receiver",
   "metadata": {},
   "outputs": [],
   "source": [
    "airTemp"
   ]
  },
  {
   "cell_type": "markdown",
   "id": "pacific-alliance",
   "metadata": {},
   "source": [
    "#### As a result of how we created the dataset, the x- and y- dimensions are attached to the variable. We define objects pointing to them now, so we can pass them to the plotting functions."
   ]
  },
  {
   "cell_type": "code",
   "execution_count": null,
   "id": "universal-syndrome",
   "metadata": {},
   "outputs": [],
   "source": [
    "x = airTemp.projection_x_coordinate\n",
    "y = airTemp.projection_y_coordinate"
   ]
  },
  {
   "cell_type": "markdown",
   "id": "split-trail",
   "metadata": {},
   "source": [
    "# <span style=\"color:purple\">2) Visualize one of the variables (2m temperature) at an analysis time </span>"
   ]
  },
  {
   "cell_type": "markdown",
   "id": "loved-variance",
   "metadata": {},
   "source": [
    "#### First, just use Xarray's `plot` function to get a quick look to verify that things look right."
   ]
  },
  {
   "cell_type": "code",
   "execution_count": null,
   "id": "pressed-combining",
   "metadata": {},
   "outputs": [],
   "source": [
    "airTemp.plot(figsize=(11,8.5))"
   ]
  },
  {
   "cell_type": "markdown",
   "id": "durable-shannon",
   "metadata": {},
   "source": [
    "### Exercise: Before we plot the map, obtain the min and max values from this `DataArray`.\n",
    "#### Hint: Since the DataArray is actually a Dask array, applying the min and max functions won't actually do the computation. You will need to call Dask's `compute` function to actually trigger the computation."
   ]
  },
  {
   "cell_type": "code",
   "execution_count": null,
   "id": "portable-compensation",
   "metadata": {},
   "outputs": [],
   "source": [
    "# Write your code here"
   ]
  },
  {
   "cell_type": "markdown",
   "id": "honest-chair",
   "metadata": {},
   "source": [
    "#### Based on the min and max that you obtained, define a range of values used for contouring."
   ]
  },
  {
   "cell_type": "code",
   "execution_count": null,
   "id": "treated-freedom",
   "metadata": {},
   "outputs": [],
   "source": [
    "fint = np.arange(0,50,2)"
   ]
  },
  {
   "cell_type": "markdown",
   "id": "utility-peripheral",
   "metadata": {},
   "source": [
    "#### Now proceed with creating the final graphic. We'll define the plot extent to nicely encompass the HRRR's spatial domain."
   ]
  },
  {
   "cell_type": "code",
   "execution_count": null,
   "id": "spectacular-spirit",
   "metadata": {},
   "outputs": [],
   "source": [
    "latN = 50.4\n",
    "latS = 24\n",
    "lonW = -124\n",
    "lonE = -71\n",
    "\n",
    "res = '50m'\n",
    "\n",
    "fig = plt.figure(figsize=(18,12))\n",
    "ax = plt.subplot(1,1,1,projection=projData)\n",
    "ax.set_extent ([lonW,lonE,latS,latN],crs=ccrs.PlateCarree())\n",
    "ax.add_feature(cfeature.COASTLINE.with_scale(res))\n",
    "ax.add_feature(cfeature.STATES.with_scale(res))\n",
    "\n",
    "# Add the title\n",
    "tl1 = str('HRRR 2m temperature ($^\\circ$C)')\n",
    "tl2 = str('Analysis valid at: '+ date + hour + ' UTC')\n",
    "plt.title(tl1+'\\n'+tl2,fontsize=16)\n",
    "\n",
    "# Contour fill\n",
    "CF = ax.contourf(x,y,airTemp,levels=fint,cmap=plt.get_cmap('coolwarm'))\n",
    "# Make a colorbar for the ContourSet returned by the contourf call.\n",
    "cbar = fig.colorbar(CF,shrink=0.5)\n",
    "cbar.set_label(r'2m Temperature ($^\\circ$C)', size='large')"
   ]
  },
  {
   "cell_type": "markdown",
   "id": "weighted-horse",
   "metadata": {},
   "source": [
    "## Exercise: try different times and variables."
   ]
  }
 ],
 "metadata": {
  "kernelspec": {
   "display_name": "Python 3 (ipykernel)",
   "language": "python",
   "name": "python3"
  },
  "language_info": {
   "codemirror_mode": {
    "name": "ipython",
    "version": 3
   },
   "file_extension": ".py",
   "mimetype": "text/x-python",
   "name": "python",
   "nbconvert_exporter": "python",
   "pygments_lexer": "ipython3",
   "version": "3.8.10"
  }
 },
 "nbformat": 4,
 "nbformat_minor": 5
}
